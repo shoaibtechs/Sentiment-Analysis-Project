{
 "cells": [
  {
   "cell_type": "code",
   "execution_count": 9,
   "id": "440d7db0",
   "metadata": {},
   "outputs": [
    {
     "name": "stderr",
     "output_type": "stream",
     "text": [
      "[nltk_data] Downloading package punkt to /home/shoaib/nltk_data...\n",
      "[nltk_data]   Package punkt is already up-to-date!\n",
      "[nltk_data] Downloading package opinion_lexicon to\n",
      "[nltk_data]     /home/shoaib/nltk_data...\n",
      "[nltk_data]   Package opinion_lexicon is already up-to-date!\n"
     ]
    },
    {
     "data": {
      "text/plain": [
       "True"
      ]
     },
     "execution_count": 9,
     "metadata": {},
     "output_type": "execute_result"
    }
   ],
   "source": [
    "import nltk\n",
    "from nltk.tokenize import word_tokenize\n",
    "\n",
    "# Download NLTK resources (if not already downloaded)\n",
    "nltk.download('punkt')\n",
    "nltk.download('opinion_lexicon')"
   ]
  },
  {
   "cell_type": "code",
   "execution_count": 10,
   "id": "05be0817",
   "metadata": {},
   "outputs": [],
   "source": [
    "class SentimentAnalyzer:\n",
    "    def __init__(self):\n",
    "        # Load positive and negative words\n",
    "        self.positive_words = set(nltk.corpus.opinion_lexicon.positive())\n",
    "        self.negative_words = set(nltk.corpus.opinion_lexicon.negative())\n",
    "\n",
    "    def analyze_sentiment(self, text):\n",
    "        # Tokenize the text\n",
    "        tokens = word_tokenize(text.lower())\n",
    "\n",
    "        # Calculate sentiment score\n",
    "        positive_count = sum(word in self.positive_words for word in tokens)\n",
    "        negative_count = sum(word in self.negative_words for word in tokens)\n",
    "        \n",
    "        if positive_count > negative_count:\n",
    "            return 'positive'\n",
    "        elif positive_count < negative_count:\n",
    "            return 'negative'\n",
    "        elif positive_count == negative_count:\n",
    "            return 'neutral'\n",
    "        \n",
    "        else:\n",
    "            return 'Errorrr'\n"
   ]
  },
  {
   "cell_type": "code",
   "execution_count": 11,
   "id": "0926e80f",
   "metadata": {},
   "outputs": [
    {
     "name": "stdout",
     "output_type": "stream",
     "text": [
      "Sentiment: negative\n"
     ]
    }
   ],
   "source": [
    "if __name__ == \"__main__\":\n",
    "    # Example usage\n",
    "    analyzer = SentimentAnalyzer()\n",
    "    text = \"The Product was very  Bad \"\n",
    "    sentiment = analyzer.analyze_sentiment(text)\n",
    "    print(\"Sentiment:\", sentiment)"
   ]
  },
  {
   "cell_type": "code",
   "execution_count": null,
   "id": "162c8a72",
   "metadata": {
    "scrolled": true
   },
   "outputs": [],
   "source": []
  },
  {
   "cell_type": "code",
   "execution_count": null,
   "id": "56e8e5b9",
   "metadata": {},
   "outputs": [],
   "source": []
  },
  {
   "cell_type": "code",
   "execution_count": null,
   "id": "2e4d9835",
   "metadata": {},
   "outputs": [],
   "source": []
  }
 ],
 "metadata": {
  "kernelspec": {
   "display_name": "Python 3 (ipykernel)",
   "language": "python",
   "name": "python3"
  },
  "language_info": {
   "codemirror_mode": {
    "name": "ipython",
    "version": 3
   },
   "file_extension": ".py",
   "mimetype": "text/x-python",
   "name": "python",
   "nbconvert_exporter": "python",
   "pygments_lexer": "ipython3",
   "version": "3.9.12"
  }
 },
 "nbformat": 4,
 "nbformat_minor": 5
}
